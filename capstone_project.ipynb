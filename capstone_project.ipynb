{
 "cells": [
  {
   "cell_type": "markdown",
   "id": "49524ef6",
   "metadata": {},
   "source": [
    "# Imports "
   ]
  },
  {
   "cell_type": "code",
   "execution_count": 1,
   "id": "cad4bb8e",
   "metadata": {},
   "outputs": [],
   "source": [
    "%%capture\n",
    "!pip install pandas-profiling[notebook]"
   ]
  },
  {
   "cell_type": "code",
   "execution_count": 25,
   "id": "b4dee998",
   "metadata": {},
   "outputs": [],
   "source": [
    "import pandas as pd\n",
    "from pandas_profiling import ProfileReport\n",
    "\n",
    "import re\n",
    "import nltk\n",
    "from nltk.corpus import stopwords\n",
    "# nltk.download('stopwords')\n",
    "from sklearn.model_selection import train_test_split\n",
    "\n",
    "import sagemaker"
   ]
  },
  {
   "cell_type": "markdown",
   "id": "7ef15221",
   "metadata": {},
   "source": [
    "# Dataset "
   ]
  },
  {
   "cell_type": "code",
   "execution_count": 63,
   "id": "bb297dc6",
   "metadata": {},
   "outputs": [],
   "source": [
    "# load the csv files\n",
    "train = pd.read_csv(\"train.csv\") #, header=None, names=[\"quadrant\", \"lyrics\"], skiprows=1)\n",
    "valid = pd.read_csv(\"validation.csv\") #, header=None, names=[\"quadrant\", \"lyrics\"], skiprows=1)\n",
    "test = pd.read_csv(\"test.csv\") #, header=None, names=[\"quadrant\", \"lyrics\"], skiprows=1)\n",
    "\n",
    "# concatenate the data\n",
    "data = pd.concat([train, valid, test]).reset_index(drop=True)\n",
    "# data.drop(\"df_index\", axis=1, inplace=True)"
   ]
  },
  {
   "cell_type": "code",
   "execution_count": 64,
   "id": "02ae9866-ab51-48b7-b1cf-b02ba6f45103",
   "metadata": {},
   "outputs": [
    {
     "data": {
      "text/html": [
       "<div>\n",
       "<style scoped>\n",
       "    .dataframe tbody tr th:only-of-type {\n",
       "        vertical-align: middle;\n",
       "    }\n",
       "\n",
       "    .dataframe tbody tr th {\n",
       "        vertical-align: top;\n",
       "    }\n",
       "\n",
       "    .dataframe thead th {\n",
       "        text-align: right;\n",
       "    }\n",
       "</style>\n",
       "<table border=\"1\" class=\"dataframe\">\n",
       "  <thead>\n",
       "    <tr style=\"text-align: right;\">\n",
       "      <th></th>\n",
       "      <th>dzr_sng_id</th>\n",
       "      <th>valence</th>\n",
       "      <th>arousal</th>\n",
       "      <th>artist_name</th>\n",
       "      <th>track_name</th>\n",
       "      <th>quadrant</th>\n",
       "      <th>lyrics</th>\n",
       "    </tr>\n",
       "  </thead>\n",
       "  <tbody>\n",
       "    <tr>\n",
       "      <th>0</th>\n",
       "      <td>213754</td>\n",
       "      <td>-0.682725</td>\n",
       "      <td>0.316758</td>\n",
       "      <td>Dark Tranquillity</td>\n",
       "      <td>Insanity's Crescendo</td>\n",
       "      <td>1</td>\n",
       "      <td>Gently, hold our heads Gently, hold our heads ...</td>\n",
       "    </tr>\n",
       "    <tr>\n",
       "      <th>1</th>\n",
       "      <td>216752</td>\n",
       "      <td>-1.400403</td>\n",
       "      <td>1.538229</td>\n",
       "      <td>Anorexia Nervosa</td>\n",
       "      <td>Stabat mater dolorosa</td>\n",
       "      <td>1</td>\n",
       "      <td>We are the Sun We are the dead stars We are th...</td>\n",
       "    </tr>\n",
       "    <tr>\n",
       "      <th>2</th>\n",
       "      <td>254391</td>\n",
       "      <td>0.815393</td>\n",
       "      <td>0.662457</td>\n",
       "      <td>Uniting Nations</td>\n",
       "      <td>Out Of Touch</td>\n",
       "      <td>0</td>\n",
       "      <td>You're out of touch, I'm out of time But I'm o...</td>\n",
       "    </tr>\n",
       "    <tr>\n",
       "      <th>3</th>\n",
       "      <td>266313</td>\n",
       "      <td>1.257460</td>\n",
       "      <td>1.086515</td>\n",
       "      <td>The Walkmen</td>\n",
       "      <td>Brandy alexander</td>\n",
       "      <td>0</td>\n",
       "      <td>Finally close the door You'd left open wide Lo...</td>\n",
       "    </tr>\n",
       "    <tr>\n",
       "      <th>4</th>\n",
       "      <td>283306</td>\n",
       "      <td>0.373325</td>\n",
       "      <td>-0.923151</td>\n",
       "      <td>Duke Ellington</td>\n",
       "      <td>Caravan</td>\n",
       "      <td>3</td>\n",
       "      <td>Night and stars above that shine so bright The...</td>\n",
       "    </tr>\n",
       "    <tr>\n",
       "      <th>...</th>\n",
       "      <td>...</td>\n",
       "      <td>...</td>\n",
       "      <td>...</td>\n",
       "      <td>...</td>\n",
       "      <td>...</td>\n",
       "      <td>...</td>\n",
       "      <td>...</td>\n",
       "    </tr>\n",
       "    <tr>\n",
       "      <th>17362</th>\n",
       "      <td>113398772</td>\n",
       "      <td>-1.700572</td>\n",
       "      <td>1.842444</td>\n",
       "      <td>Sworn Enemy</td>\n",
       "      <td>We Hate</td>\n",
       "      <td>1</td>\n",
       "      <td>What I really hate is music like yours Makes m...</td>\n",
       "    </tr>\n",
       "    <tr>\n",
       "      <th>17363</th>\n",
       "      <td>114388304</td>\n",
       "      <td>1.178325</td>\n",
       "      <td>1.183311</td>\n",
       "      <td>Van Morrison</td>\n",
       "      <td>Wild Night</td>\n",
       "      <td>0</td>\n",
       "      <td>As you brush your shoes, stand before the mirr...</td>\n",
       "    </tr>\n",
       "    <tr>\n",
       "      <th>17364</th>\n",
       "      <td>114388306</td>\n",
       "      <td>0.373325</td>\n",
       "      <td>-0.923151</td>\n",
       "      <td>Van Morrison</td>\n",
       "      <td>Tupelo Honey</td>\n",
       "      <td>3</td>\n",
       "      <td>You can take all the tea in China Put it in a ...</td>\n",
       "    </tr>\n",
       "    <tr>\n",
       "      <th>17365</th>\n",
       "      <td>114388348</td>\n",
       "      <td>0.815393</td>\n",
       "      <td>0.662457</td>\n",
       "      <td>Van Morrison</td>\n",
       "      <td>Once In A Blue Moon</td>\n",
       "      <td>0</td>\n",
       "      <td>Once in a blue moon Something good comes along...</td>\n",
       "    </tr>\n",
       "    <tr>\n",
       "      <th>17366</th>\n",
       "      <td>124220546</td>\n",
       "      <td>1.142850</td>\n",
       "      <td>1.071151</td>\n",
       "      <td>Clear Vu</td>\n",
       "      <td>I Adore</td>\n",
       "      <td>0</td>\n",
       "      <td>Your the one that i adore, i adore your the Yo...</td>\n",
       "    </tr>\n",
       "  </tbody>\n",
       "</table>\n",
       "<p>17367 rows × 7 columns</p>\n",
       "</div>"
      ],
      "text/plain": [
       "       dzr_sng_id   valence   arousal        artist_name  \\\n",
       "0          213754 -0.682725  0.316758  Dark Tranquillity   \n",
       "1          216752 -1.400403  1.538229   Anorexia Nervosa   \n",
       "2          254391  0.815393  0.662457    Uniting Nations   \n",
       "3          266313  1.257460  1.086515        The Walkmen   \n",
       "4          283306  0.373325 -0.923151     Duke Ellington   \n",
       "...           ...       ...       ...                ...   \n",
       "17362   113398772 -1.700572  1.842444        Sworn Enemy   \n",
       "17363   114388304  1.178325  1.183311       Van Morrison   \n",
       "17364   114388306  0.373325 -0.923151       Van Morrison   \n",
       "17365   114388348  0.815393  0.662457       Van Morrison   \n",
       "17366   124220546  1.142850  1.071151           Clear Vu   \n",
       "\n",
       "                  track_name  quadrant  \\\n",
       "0       Insanity's Crescendo         1   \n",
       "1      Stabat mater dolorosa         1   \n",
       "2               Out Of Touch         0   \n",
       "3           Brandy alexander         0   \n",
       "4                    Caravan         3   \n",
       "...                      ...       ...   \n",
       "17362                We Hate         1   \n",
       "17363             Wild Night         0   \n",
       "17364           Tupelo Honey         3   \n",
       "17365    Once In A Blue Moon         0   \n",
       "17366                I Adore         0   \n",
       "\n",
       "                                                  lyrics  \n",
       "0      Gently, hold our heads Gently, hold our heads ...  \n",
       "1      We are the Sun We are the dead stars We are th...  \n",
       "2      You're out of touch, I'm out of time But I'm o...  \n",
       "3      Finally close the door You'd left open wide Lo...  \n",
       "4      Night and stars above that shine so bright The...  \n",
       "...                                                  ...  \n",
       "17362  What I really hate is music like yours Makes m...  \n",
       "17363  As you brush your shoes, stand before the mirr...  \n",
       "17364  You can take all the tea in China Put it in a ...  \n",
       "17365  Once in a blue moon Something good comes along...  \n",
       "17366  Your the one that i adore, i adore your the Yo...  \n",
       "\n",
       "[17367 rows x 7 columns]"
      ]
     },
     "execution_count": 64,
     "metadata": {},
     "output_type": "execute_result"
    }
   ],
   "source": [
    "data"
   ]
  },
  {
   "cell_type": "code",
   "execution_count": 13,
   "id": "fa5eb0de",
   "metadata": {},
   "outputs": [
    {
     "data": {
      "application/vnd.jupyter.widget-view+json": {
       "model_id": "c77fe42e1dfc484a85bbf3bb29f095ba",
       "version_major": 2,
       "version_minor": 0
      },
      "text/plain": [
       "Summarize dataset:   0%|          | 0/5 [00:00<?, ?it/s]"
      ]
     },
     "metadata": {},
     "output_type": "display_data"
    },
    {
     "data": {
      "application/vnd.jupyter.widget-view+json": {
       "model_id": "6bc9f9b3d5a94fc4bfa0eaa014cf9872",
       "version_major": 2,
       "version_minor": 0
      },
      "text/plain": [
       "Generate report structure:   0%|          | 0/1 [00:00<?, ?it/s]"
      ]
     },
     "metadata": {},
     "output_type": "display_data"
    },
    {
     "data": {
      "application/vnd.jupyter.widget-view+json": {
       "model_id": "29844ea9cded4181ace968d2739ed969",
       "version_major": 2,
       "version_minor": 0
      },
      "text/plain": [
       "Render HTML:   0%|          | 0/1 [00:00<?, ?it/s]"
      ]
     },
     "metadata": {},
     "output_type": "display_data"
    },
    {
     "data": {
      "application/vnd.jupyter.widget-view+json": {
       "model_id": "863665542fcb46988d2b683260ea48b0",
       "version_major": 2,
       "version_minor": 0
      },
      "text/plain": [
       "Export report to file:   0%|          | 0/1 [00:00<?, ?it/s]"
      ]
     },
     "metadata": {},
     "output_type": "display_data"
    }
   ],
   "source": [
    "# perfomr a profiler/EDA report on the data\n",
    "# using valid data since whole data could not fit in memory for profiling\n",
    "profile = ProfileReport(valid, title=\"Qauadrant Lyrics Dataset\", html={\"style\": {\"full_width\": True}}) #, minimal=True)\n",
    "profile.to_file(\"EDA.html\")"
   ]
  },
  {
   "cell_type": "code",
   "execution_count": 66,
   "id": "ebffe794",
   "metadata": {},
   "outputs": [],
   "source": [
    "# preprocess the lyrics column\n",
    "contraction_dict = {\"ain't\": \"is not\", \"aren't\": \"are not\",\"can't\": \"cannot\", \"'cause\": \"because\", \"could've\": \"could have\", \"couldn't\": \"could not\", \"didn't\": \"did not\",  \"doesn't\": \"does not\", \"don't\": \"do not\", \"hadn't\": \"had not\", \"hasn't\": \"has not\", \"haven't\": \"have not\", \"he'd\": \"he would\",\"he'll\": \"he will\", \"he's\": \"he is\", \"how'd\": \"how did\", \"how'd'y\": \"how do you\", \"how'll\": \"how will\", \"how's\": \"how is\",  \"I'd\": \"I would\", \"I'd've\": \"I would have\", \"I'll\": \"I will\", \"I'll've\": \"I will have\",\"I'm\": \"I am\", \"I've\": \"I have\", \"i'd\": \"i would\", \"i'd've\": \"i would have\", \"i'll\": \"i will\",  \"i'll've\": \"i will have\",\"i'm\": \"i am\", \"i've\": \"i have\", \"isn't\": \"is not\", \"it'd\": \"it would\", \"it'd've\": \"it would have\", \"it'll\": \"it will\", \"it'll've\": \"it will have\",\"it's\": \"it is\", \"let's\": \"let us\", \"ma'am\": \"madam\", \"mayn't\": \"may not\", \"might've\": \"might have\",\"mightn't\": \"might not\",\"mightn't've\": \"might not have\", \"must've\": \"must have\", \"mustn't\": \"must not\", \"mustn't've\": \"must not have\", \"needn't\": \"need not\", \"needn't've\": \"need not have\",\"o'clock\": \"of the clock\", \"oughtn't\": \"ought not\", \"oughtn't've\": \"ought not have\", \"shan't\": \"shall not\", \"sha'n't\": \"shall not\", \"shan't've\": \"shall not have\", \"she'd\": \"she would\", \"she'd've\": \"she would have\", \"she'll\": \"she will\", \"she'll've\": \"she will have\", \"she's\": \"she is\", \"should've\": \"should have\", \"shouldn't\": \"should not\", \"shouldn't've\": \"should not have\", \"so've\": \"so have\",\"so's\": \"so as\", \"this's\": \"this is\",\"that'd\": \"that would\", \"that'd've\": \"that would have\", \"that's\": \"that is\", \"there'd\": \"there would\", \"there'd've\": \"there would have\", \"there's\": \"there is\", \"here's\": \"here is\",\"they'd\": \"they would\", \"they'd've\": \"they would have\", \"they'll\": \"they will\", \"they'll've\": \"they will have\", \"they're\": \"they are\", \"they've\": \"they have\", \"to've\": \"to have\", \"wasn't\": \"was not\", \"we'd\": \"we would\", \"we'd've\": \"we would have\", \"we'll\": \"we will\", \"we'll've\": \"we will have\", \"we're\": \"we are\", \"we've\": \"we have\", \"weren't\": \"were not\", \"what'll\": \"what will\", \"what'll've\": \"what will have\", \"what're\": \"what are\",  \"what's\": \"what is\", \"what've\": \"what have\", \"when's\": \"when is\", \"when've\": \"when have\", \"where'd\": \"where did\", \"where's\": \"where is\", \"where've\": \"where have\", \"who'll\": \"who will\", \"who'll've\": \"who will have\", \"who's\": \"who is\", \"who've\": \"who have\", \"why's\": \"why is\", \"why've\": \"why have\", \"will've\": \"will have\", \"won't\": \"will not\", \"won't've\": \"will not have\", \"would've\": \"would have\", \"wouldn't\": \"would not\", \"wouldn't've\": \"would not have\", \"y'all\": \"you all\", \"y'all'd\": \"you all would\",\"y'all'd've\": \"you all would have\",\"y'all're\": \"you all are\",\"y'all've\": \"you all have\",\"you'd\": \"you would\", \"you'd've\": \"you would have\", \"you'll\": \"you will\", \"you'll've\": \"you will have\", \"you're\": \"you are\", \"you've\": \"you have\"}\n",
    "def _get_contractions(contraction_dict):\n",
    "    contraction_re = re.compile('(%s)' % '|'.join(contraction_dict.keys()))\n",
    "    return contraction_dict, contraction_re\n",
    "contractions, contractions_re = _get_contractions(contraction_dict)\n",
    "def replace_contractions(text):\n",
    "    def replace(match):\n",
    "        return contractions[match.group(0)]\n",
    "    return contractions_re.sub(replace, text)\n",
    "\n",
    "REPLACE_BY_SPACE_RE = re.compile('[/(){}\\[\\]\\|@,;]')\n",
    "BAD_SYMBOLS_RE = re.compile('[^0-9a-z #+_]')\n",
    "STOPWORDS = set(stopwords.words('english'))\n",
    "\n",
    "def text_preprocessing(text):\n",
    "    text = text.lower() # lower text\n",
    "    text = replace_contractions(text) # remove contactions\n",
    "    text = \"\".join(\"\".join(text).replace(\"\\n\", \" \").replace(\"\\r\", \" \")) # remove \\n and \\r\n",
    "    text = REPLACE_BY_SPACE_RE.sub(' ', text) # replace symbols with space\n",
    "    text = BAD_SYMBOLS_RE.sub('', text) # replace bad characters with nothing\n",
    "    text = re.sub(r'[0-9]', '', text) # remove residual numbers\n",
    "    text = text.strip()\n",
    "    text = \" \".join([word for word in text.split() if word not in STOPWORDS]) # remove stopwords\n",
    "    \n",
    "    return text"
   ]
  },
  {
   "cell_type": "code",
   "execution_count": 67,
   "id": "aa1ad682-46ef-4bd4-b05e-dcf36bcb184e",
   "metadata": {},
   "outputs": [],
   "source": [
    "data[\"lyrics\"] = data[\"lyrics\"].apply(text_preprocessing)"
   ]
  },
  {
   "cell_type": "code",
   "execution_count": 68,
   "id": "36cd73c2-836f-49e2-ba6b-56415bfa62c4",
   "metadata": {},
   "outputs": [
    {
     "data": {
      "text/html": [
       "<div>\n",
       "<style scoped>\n",
       "    .dataframe tbody tr th:only-of-type {\n",
       "        vertical-align: middle;\n",
       "    }\n",
       "\n",
       "    .dataframe tbody tr th {\n",
       "        vertical-align: top;\n",
       "    }\n",
       "\n",
       "    .dataframe thead th {\n",
       "        text-align: right;\n",
       "    }\n",
       "</style>\n",
       "<table border=\"1\" class=\"dataframe\">\n",
       "  <thead>\n",
       "    <tr style=\"text-align: right;\">\n",
       "      <th></th>\n",
       "      <th>dzr_sng_id</th>\n",
       "      <th>valence</th>\n",
       "      <th>arousal</th>\n",
       "      <th>quadrant</th>\n",
       "      <th>len</th>\n",
       "    </tr>\n",
       "  </thead>\n",
       "  <tbody>\n",
       "    <tr>\n",
       "      <th>count</th>\n",
       "      <td>1.736700e+04</td>\n",
       "      <td>17367.000000</td>\n",
       "      <td>17367.000000</td>\n",
       "      <td>17367.000000</td>\n",
       "      <td>17367.000000</td>\n",
       "    </tr>\n",
       "    <tr>\n",
       "      <th>mean</th>\n",
       "      <td>1.982202e+07</td>\n",
       "      <td>-0.069096</td>\n",
       "      <td>0.198605</td>\n",
       "      <td>1.346980</td>\n",
       "      <td>1226.929752</td>\n",
       "    </tr>\n",
       "    <tr>\n",
       "      <th>std</th>\n",
       "      <td>3.055292e+07</td>\n",
       "      <td>1.057003</td>\n",
       "      <td>0.959009</td>\n",
       "      <td>1.117818</td>\n",
       "      <td>11881.868344</td>\n",
       "    </tr>\n",
       "    <tr>\n",
       "      <th>min</th>\n",
       "      <td>2.137540e+05</td>\n",
       "      <td>-2.148097</td>\n",
       "      <td>-2.333604</td>\n",
       "      <td>0.000000</td>\n",
       "      <td>0.000000</td>\n",
       "    </tr>\n",
       "    <tr>\n",
       "      <th>25%</th>\n",
       "      <td>1.183880e+06</td>\n",
       "      <td>-1.040199</td>\n",
       "      <td>-0.580908</td>\n",
       "      <td>0.000000</td>\n",
       "      <td>453.000000</td>\n",
       "    </tr>\n",
       "    <tr>\n",
       "      <th>50%</th>\n",
       "      <td>3.783645e+06</td>\n",
       "      <td>0.032224</td>\n",
       "      <td>0.041735</td>\n",
       "      <td>1.000000</td>\n",
       "      <td>621.000000</td>\n",
       "    </tr>\n",
       "    <tr>\n",
       "      <th>75%</th>\n",
       "      <td>1.636354e+07</td>\n",
       "      <td>0.815393</td>\n",
       "      <td>0.846830</td>\n",
       "      <td>2.000000</td>\n",
       "      <td>846.500000</td>\n",
       "    </tr>\n",
       "    <tr>\n",
       "      <th>max</th>\n",
       "      <td>1.242205e+08</td>\n",
       "      <td>1.546714</td>\n",
       "      <td>2.755091</td>\n",
       "      <td>3.000000</td>\n",
       "      <td>484895.000000</td>\n",
       "    </tr>\n",
       "  </tbody>\n",
       "</table>\n",
       "</div>"
      ],
      "text/plain": [
       "         dzr_sng_id       valence       arousal      quadrant            len\n",
       "count  1.736700e+04  17367.000000  17367.000000  17367.000000   17367.000000\n",
       "mean   1.982202e+07     -0.069096      0.198605      1.346980    1226.929752\n",
       "std    3.055292e+07      1.057003      0.959009      1.117818   11881.868344\n",
       "min    2.137540e+05     -2.148097     -2.333604      0.000000       0.000000\n",
       "25%    1.183880e+06     -1.040199     -0.580908      0.000000     453.000000\n",
       "50%    3.783645e+06      0.032224      0.041735      1.000000     621.000000\n",
       "75%    1.636354e+07      0.815393      0.846830      2.000000     846.500000\n",
       "max    1.242205e+08      1.546714      2.755091      3.000000  484895.000000"
      ]
     },
     "execution_count": 68,
     "metadata": {},
     "output_type": "execute_result"
    }
   ],
   "source": [
    "# get lens and remove anything with less than 64\n",
    "data[\"len\"] = data[\"lyrics\"].apply(len)\n",
    "data.describe()"
   ]
  },
  {
   "cell_type": "code",
   "execution_count": 69,
   "id": "aa120f29-1bd1-44a2-969b-5c837f436e24",
   "metadata": {},
   "outputs": [
    {
     "data": {
      "text/html": [
       "<div>\n",
       "<style scoped>\n",
       "    .dataframe tbody tr th:only-of-type {\n",
       "        vertical-align: middle;\n",
       "    }\n",
       "\n",
       "    .dataframe tbody tr th {\n",
       "        vertical-align: top;\n",
       "    }\n",
       "\n",
       "    .dataframe thead th {\n",
       "        text-align: right;\n",
       "    }\n",
       "</style>\n",
       "<table border=\"1\" class=\"dataframe\">\n",
       "  <thead>\n",
       "    <tr style=\"text-align: right;\">\n",
       "      <th></th>\n",
       "      <th>dzr_sng_id</th>\n",
       "      <th>valence</th>\n",
       "      <th>arousal</th>\n",
       "      <th>quadrant</th>\n",
       "      <th>len</th>\n",
       "    </tr>\n",
       "  </thead>\n",
       "  <tbody>\n",
       "    <tr>\n",
       "      <th>count</th>\n",
       "      <td>1.735700e+04</td>\n",
       "      <td>17357.000000</td>\n",
       "      <td>17357.000000</td>\n",
       "      <td>17357.000000</td>\n",
       "      <td>17357.000000</td>\n",
       "    </tr>\n",
       "    <tr>\n",
       "      <th>mean</th>\n",
       "      <td>1.981127e+07</td>\n",
       "      <td>-0.069137</td>\n",
       "      <td>0.198658</td>\n",
       "      <td>1.346719</td>\n",
       "      <td>1227.623552</td>\n",
       "    </tr>\n",
       "    <tr>\n",
       "      <th>std</th>\n",
       "      <td>3.054602e+07</td>\n",
       "      <td>1.056965</td>\n",
       "      <td>0.958927</td>\n",
       "      <td>1.117736</td>\n",
       "      <td>11885.255659</td>\n",
       "    </tr>\n",
       "    <tr>\n",
       "      <th>min</th>\n",
       "      <td>2.137540e+05</td>\n",
       "      <td>-2.148097</td>\n",
       "      <td>-2.333604</td>\n",
       "      <td>0.000000</td>\n",
       "      <td>69.000000</td>\n",
       "    </tr>\n",
       "    <tr>\n",
       "      <th>25%</th>\n",
       "      <td>1.184201e+06</td>\n",
       "      <td>-1.040199</td>\n",
       "      <td>-0.579756</td>\n",
       "      <td>0.000000</td>\n",
       "      <td>453.000000</td>\n",
       "    </tr>\n",
       "    <tr>\n",
       "      <th>50%</th>\n",
       "      <td>3.783640e+06</td>\n",
       "      <td>0.032224</td>\n",
       "      <td>0.041735</td>\n",
       "      <td>1.000000</td>\n",
       "      <td>621.000000</td>\n",
       "    </tr>\n",
       "    <tr>\n",
       "      <th>75%</th>\n",
       "      <td>1.634820e+07</td>\n",
       "      <td>0.815393</td>\n",
       "      <td>0.846830</td>\n",
       "      <td>2.000000</td>\n",
       "      <td>847.000000</td>\n",
       "    </tr>\n",
       "    <tr>\n",
       "      <th>max</th>\n",
       "      <td>1.242205e+08</td>\n",
       "      <td>1.546714</td>\n",
       "      <td>2.755091</td>\n",
       "      <td>3.000000</td>\n",
       "      <td>484895.000000</td>\n",
       "    </tr>\n",
       "  </tbody>\n",
       "</table>\n",
       "</div>"
      ],
      "text/plain": [
       "         dzr_sng_id       valence       arousal      quadrant            len\n",
       "count  1.735700e+04  17357.000000  17357.000000  17357.000000   17357.000000\n",
       "mean   1.981127e+07     -0.069137      0.198658      1.346719    1227.623552\n",
       "std    3.054602e+07      1.056965      0.958927      1.117736   11885.255659\n",
       "min    2.137540e+05     -2.148097     -2.333604      0.000000      69.000000\n",
       "25%    1.184201e+06     -1.040199     -0.579756      0.000000     453.000000\n",
       "50%    3.783640e+06      0.032224      0.041735      1.000000     621.000000\n",
       "75%    1.634820e+07      0.815393      0.846830      2.000000     847.000000\n",
       "max    1.242205e+08      1.546714      2.755091      3.000000  484895.000000"
      ]
     },
     "execution_count": 69,
     "metadata": {},
     "output_type": "execute_result"
    }
   ],
   "source": [
    "data = data.loc[data[\"len\"] >= 64]\n",
    "data.describe()"
   ]
  },
  {
   "cell_type": "code",
   "execution_count": 70,
   "id": "7d096541-9672-4b83-a9e2-10b5420a7520",
   "metadata": {},
   "outputs": [
    {
     "name": "stderr",
     "output_type": "stream",
     "text": [
      "C:\\Users\\marti\\anaconda3\\lib\\site-packages\\pandas\\core\\frame.py:4906: SettingWithCopyWarning: \n",
      "A value is trying to be set on a copy of a slice from a DataFrame\n",
      "\n",
      "See the caveats in the documentation: https://pandas.pydata.org/pandas-docs/stable/user_guide/indexing.html#returning-a-view-versus-a-copy\n",
      "  return super().drop(\n"
     ]
    }
   ],
   "source": [
    "data.drop(labels=[\"len\"], axis=1, inplace=True)"
   ]
  },
  {
   "cell_type": "code",
   "execution_count": 71,
   "id": "058298b8-e4d2-4b51-a892-1d2a455aed06",
   "metadata": {},
   "outputs": [
    {
     "name": "stdout",
     "output_type": "stream",
     "text": [
      "(12496, 7) (1736, 7) (3125, 7)\n"
     ]
    }
   ],
   "source": [
    "# split the preprocessed data\n",
    "train_test = 0.1\n",
    "train_valid = 0.8\n",
    "\n",
    "train, test = train_test_split(data, test_size=train_test, random_state=0)\n",
    "train, valid = train_test_split(train, train_size=train_valid, random_state=0)\n",
    "\n",
    "print(train.shape, test.shape, valid.shape)"
   ]
  },
  {
   "cell_type": "code",
   "execution_count": 72,
   "id": "735f86b0-c2cf-436d-8c53-7bdb9701befa",
   "metadata": {},
   "outputs": [],
   "source": [
    "train.to_csv(\"preprocessed_train.csv\", index=False)\n",
    "test.to_csv(\"preprocessed_test.csv\", index=False)\n",
    "valid.to_csv(\"preprocessed_valid.csv\", index=False)"
   ]
  },
  {
   "cell_type": "code",
   "execution_count": 73,
   "id": "39d2d6a6-581b-4137-a23f-f08b0192e8ed",
   "metadata": {},
   "outputs": [],
   "source": [
    "# generate lyrics.txt and labels.txt for all datasets\n",
    "def aggregate_lyrics(dataset, lyrics_path, labels_path):\n",
    "    \"\"\"\n",
    "    Aggregate lyrics and their respective labels / quadrant\n",
    "    :param dataset: path to data\n",
    "    :param lyrics_path: path to lyrics .txt file\n",
    "    :param labels_path: path to labels .txt file\n",
    "    :return: None\n",
    "    \"\"\"\n",
    "    \n",
    "    data = pd.read_csv(dataset)\n",
    "    failed_index = []   # indexes with faulty data\n",
    "    \n",
    "    lyrics = data[\"lyrics\"]\n",
    "    labels = data[\"quadrant\"]\n",
    "    \n",
    "    with open(lyrics_path, \"w\") as f:\n",
    "        for _ in range(lyrics.shape[0]):\n",
    "            try:\n",
    "                f.write(\"\".join(\"\".join(lyrics[_]).replace(\"\\n\", \" \").replace(\"\\r\", \" \"))+\"\\n\")\n",
    "            except UnicodeEncodeError:\n",
    "                failed_index.append(_)\n",
    "                \n",
    "    with open(labels_path, \"w\") as f:\n",
    "        for _ in range(labels.shape[0]):\n",
    "            try:\n",
    "                if _ not in failed_index:\n",
    "                    f.write(str(labels.iloc[_])+\"\\n\")\n",
    "            except UnicodeEncodeError:\n",
    "                pass"
   ]
  },
  {
   "cell_type": "code",
   "execution_count": 74,
   "id": "e1aeb3b5-09d5-45cf-b5e3-9de811dd53ec",
   "metadata": {},
   "outputs": [],
   "source": [
    "dataset_list = [\"preprocessed_train.csv\", \"preprocessed_test.csv\", \"preprocessed_valid.csv\"]\n",
    "lyrics_path_list = [\"data/train/lyrics.txt\", \"data/test/lyrics.txt\", \"data/valid/lyrics.txt\"]\n",
    "labels_path_list = [\"data/train/labels.txt\", \"data/test/labels.txt\", \"data/valid/labels.txt\"]"
   ]
  },
  {
   "cell_type": "code",
   "execution_count": 75,
   "id": "245a7e91-1bd9-4e05-8415-748d3f0c30e9",
   "metadata": {},
   "outputs": [],
   "source": [
    "for i in range(len(dataset_list)):\n",
    "    aggregate_lyrics(dataset_list[i], lyrics_path_list[i], labels_path_list[i])"
   ]
  },
  {
   "cell_type": "code",
   "execution_count": null,
   "id": "6f9492f2-1962-43de-89f9-7d3b047a9457",
   "metadata": {},
   "outputs": [],
   "source": [
    "# upload data\n",
    "session = sagemaker.Session()\n",
    "bucket = session.default_bucket()\n",
    "role = sagemaker.get_execution_role()\n",
    "\n",
    "print(\"Default Bucket: {}\".format(bucket))\n",
    "print(\"RoleArn: {}\".format(role))"
   ]
  },
  {
   "cell_type": "code",
   "execution_count": null,
   "id": "407427dd-ac9c-434d-8348-c8c05fd95ec0",
   "metadata": {},
   "outputs": [],
   "source": [
    "local_dir = \"data\"\n",
    "prefix = \"emotion_recognition_music_lyrics\"\n",
    "inputs = session.upload_data(path=local_dir, bucket=bucket, key_prefix=prefix)\n",
    "print(\"input spec (in this case, just an S3 path): {}\".format(inputs))"
   ]
  },
  {
   "cell_type": "code",
   "execution_count": null,
   "id": "ab031b51-0a8f-464d-a209-881625bfaf7c",
   "metadata": {},
   "outputs": [],
   "source": [
    "# Saving this to avoid uploading the inputs again)\n",
    "inputs = \"s3://sagemaker-us-east-1-420657680415/emotion_recognition_music_lyrics\"\n",
    "print(\"input spec (in this case, just an S3 path): {}\".format(inputs))"
   ]
  }
 ],
 "metadata": {
  "kernelspec": {
   "display_name": "Python 3 (ipykernel)",
   "language": "python",
   "name": "python3"
  },
  "language_info": {
   "codemirror_mode": {
    "name": "ipython",
    "version": 3
   },
   "file_extension": ".py",
   "mimetype": "text/x-python",
   "name": "python",
   "nbconvert_exporter": "python",
   "pygments_lexer": "ipython3",
   "version": "3.9.7"
  }
 },
 "nbformat": 4,
 "nbformat_minor": 5
}
