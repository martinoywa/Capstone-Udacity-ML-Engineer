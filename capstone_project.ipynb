{
 "cells": [
  {
   "cell_type": "markdown",
   "id": "849019c2",
   "metadata": {},
   "source": [
    "# Imports "
   ]
  },
  {
   "cell_type": "code",
   "execution_count": 1,
   "id": "49bd941c",
   "metadata": {},
   "outputs": [],
   "source": [
    "%%capture\n",
    "!pip install pandas-profiling[notebook]"
   ]
  },
  {
   "cell_type": "code",
   "execution_count": 1,
   "id": "7470d75c",
   "metadata": {},
   "outputs": [],
   "source": [
    "%%capture\n",
    "import pandas as pd\n",
    "from pandas_profiling import ProfileReport\n",
    "\n",
    "import re\n",
    "import nltk\n",
    "from nltk.corpus import stopwords\n",
    "nltk.download('stopwords')\n",
    "from sklearn.model_selection import train_test_split\n",
    "\n",
    "import sagemaker\n",
    "from sagemaker.tuner import (\n",
    "    CategoricalParameter,\n",
    "    ContinuousParameter,\n",
    "    IntegerParameter,\n",
    "    HyperparameterTuner,\n",
    ")\n",
    "from sagemaker.huggingface import HuggingFace"
   ]
  },
  {
   "cell_type": "markdown",
   "id": "660c43ce",
   "metadata": {},
   "source": [
    "# Dataset "
   ]
  },
  {
   "cell_type": "code",
   "execution_count": null,
   "id": "24d78c83",
   "metadata": {},
   "outputs": [],
   "source": [
    "# load the csv files\n",
    "train = pd.read_csv(\"train.csv\") #, header=None, names=[\"quadrant\", \"lyrics\"], skiprows=1)\n",
    "valid = pd.read_csv(\"validation.csv\") #, header=None, names=[\"quadrant\", \"lyrics\"], skiprows=1)\n",
    "test = pd.read_csv(\"test.csv\") #, header=None, names=[\"quadrant\", \"lyrics\"], skiprows=1)\n",
    "\n",
    "# concatenate the data\n",
    "data = pd.concat([train, valid, test]).reset_index(drop=True)\n",
    "# data.drop(\"df_index\", axis=1, inplace=True)"
   ]
  },
  {
   "cell_type": "code",
   "execution_count": null,
   "id": "6b9e6d4b",
   "metadata": {},
   "outputs": [],
   "source": [
    "data"
   ]
  },
  {
   "cell_type": "code",
   "execution_count": null,
   "id": "ef576026",
   "metadata": {},
   "outputs": [],
   "source": [
    "# perfomr a profiler/EDA report on the data\n",
    "# using valid data since whole data could not fit in memory for profiling\n",
    "profile = ProfileReport(train, title=\"Qauadrant Lyrics Dataset\", html={\"style\": {\"full_width\": True}}) #, minimal=True)\n",
    "profile.to_file(\"EDA.html\")"
   ]
  },
  {
   "cell_type": "code",
   "execution_count": null,
   "id": "fcf9e2ae",
   "metadata": {},
   "outputs": [],
   "source": [
    "# preprocess the lyrics column\n",
    "contraction_dict = {\"ain't\": \"is not\", \"aren't\": \"are not\",\"can't\": \"cannot\", \"'cause\": \"because\", \"could've\": \"could have\", \"couldn't\": \"could not\", \"didn't\": \"did not\",  \"doesn't\": \"does not\", \"don't\": \"do not\", \"hadn't\": \"had not\", \"hasn't\": \"has not\", \"haven't\": \"have not\", \"he'd\": \"he would\",\"he'll\": \"he will\", \"he's\": \"he is\", \"how'd\": \"how did\", \"how'd'y\": \"how do you\", \"how'll\": \"how will\", \"how's\": \"how is\",  \"I'd\": \"I would\", \"I'd've\": \"I would have\", \"I'll\": \"I will\", \"I'll've\": \"I will have\",\"I'm\": \"I am\", \"I've\": \"I have\", \"i'd\": \"i would\", \"i'd've\": \"i would have\", \"i'll\": \"i will\",  \"i'll've\": \"i will have\",\"i'm\": \"i am\", \"i've\": \"i have\", \"isn't\": \"is not\", \"it'd\": \"it would\", \"it'd've\": \"it would have\", \"it'll\": \"it will\", \"it'll've\": \"it will have\",\"it's\": \"it is\", \"let's\": \"let us\", \"ma'am\": \"madam\", \"mayn't\": \"may not\", \"might've\": \"might have\",\"mightn't\": \"might not\",\"mightn't've\": \"might not have\", \"must've\": \"must have\", \"mustn't\": \"must not\", \"mustn't've\": \"must not have\", \"needn't\": \"need not\", \"needn't've\": \"need not have\",\"o'clock\": \"of the clock\", \"oughtn't\": \"ought not\", \"oughtn't've\": \"ought not have\", \"shan't\": \"shall not\", \"sha'n't\": \"shall not\", \"shan't've\": \"shall not have\", \"she'd\": \"she would\", \"she'd've\": \"she would have\", \"she'll\": \"she will\", \"she'll've\": \"she will have\", \"she's\": \"she is\", \"should've\": \"should have\", \"shouldn't\": \"should not\", \"shouldn't've\": \"should not have\", \"so've\": \"so have\",\"so's\": \"so as\", \"this's\": \"this is\",\"that'd\": \"that would\", \"that'd've\": \"that would have\", \"that's\": \"that is\", \"there'd\": \"there would\", \"there'd've\": \"there would have\", \"there's\": \"there is\", \"here's\": \"here is\",\"they'd\": \"they would\", \"they'd've\": \"they would have\", \"they'll\": \"they will\", \"they'll've\": \"they will have\", \"they're\": \"they are\", \"they've\": \"they have\", \"to've\": \"to have\", \"wasn't\": \"was not\", \"we'd\": \"we would\", \"we'd've\": \"we would have\", \"we'll\": \"we will\", \"we'll've\": \"we will have\", \"we're\": \"we are\", \"we've\": \"we have\", \"weren't\": \"were not\", \"what'll\": \"what will\", \"what'll've\": \"what will have\", \"what're\": \"what are\",  \"what's\": \"what is\", \"what've\": \"what have\", \"when's\": \"when is\", \"when've\": \"when have\", \"where'd\": \"where did\", \"where's\": \"where is\", \"where've\": \"where have\", \"who'll\": \"who will\", \"who'll've\": \"who will have\", \"who's\": \"who is\", \"who've\": \"who have\", \"why's\": \"why is\", \"why've\": \"why have\", \"will've\": \"will have\", \"won't\": \"will not\", \"won't've\": \"will not have\", \"would've\": \"would have\", \"wouldn't\": \"would not\", \"wouldn't've\": \"would not have\", \"y'all\": \"you all\", \"y'all'd\": \"you all would\",\"y'all'd've\": \"you all would have\",\"y'all're\": \"you all are\",\"y'all've\": \"you all have\",\"you'd\": \"you would\", \"you'd've\": \"you would have\", \"you'll\": \"you will\", \"you'll've\": \"you will have\", \"you're\": \"you are\", \"you've\": \"you have\"}\n",
    "def _get_contractions(contraction_dict):\n",
    "    contraction_re = re.compile('(%s)' % '|'.join(contraction_dict.keys()))\n",
    "    return contraction_dict, contraction_re\n",
    "contractions, contractions_re = _get_contractions(contraction_dict)\n",
    "def replace_contractions(text):\n",
    "    def replace(match):\n",
    "        return contractions[match.group(0)]\n",
    "    return contractions_re.sub(replace, text)\n",
    "\n",
    "REPLACE_BY_SPACE_RE = re.compile('[/(){}\\[\\]\\|@,;]')\n",
    "BAD_SYMBOLS_RE = re.compile('[^0-9a-z #+_]')\n",
    "STOPWORDS = set(stopwords.words('english'))\n",
    "\n",
    "def text_preprocessing(text):\n",
    "    text = text.lower() # lower text\n",
    "    text = replace_contractions(text) # remove contactions\n",
    "    text = \"\".join(\"\".join(text).replace(\"\\n\", \" \").replace(\"\\r\", \" \")) # remove \\n and \\r\n",
    "    text = REPLACE_BY_SPACE_RE.sub(' ', text) # replace symbols with space\n",
    "    text = BAD_SYMBOLS_RE.sub('', text) # replace bad characters with nothing\n",
    "    text = re.sub(r'[0-9]', '', text) # remove residual numbers\n",
    "    text = text.strip()\n",
    "    text = \" \".join([word for word in text.split() if word not in STOPWORDS]) # remove stopwords\n",
    "    \n",
    "    return text"
   ]
  },
  {
   "cell_type": "code",
   "execution_count": null,
   "id": "981744bc",
   "metadata": {},
   "outputs": [],
   "source": [
    "data[\"lyrics\"] = data[\"lyrics\"].apply(text_preprocessing)"
   ]
  },
  {
   "cell_type": "code",
   "execution_count": null,
   "id": "4b6efbf8",
   "metadata": {},
   "outputs": [],
   "source": [
    "# get lens and remove anything with less than 64\n",
    "data[\"len\"] = data[\"lyrics\"].apply(len)\n",
    "data.describe()"
   ]
  },
  {
   "cell_type": "code",
   "execution_count": null,
   "id": "e9cb298a",
   "metadata": {},
   "outputs": [],
   "source": [
    "data = data.loc[data[\"len\"] >= 64]\n",
    "data.describe()"
   ]
  },
  {
   "cell_type": "code",
   "execution_count": null,
   "id": "dbb18e2e",
   "metadata": {},
   "outputs": [],
   "source": [
    "data.drop(labels=[\"len\"], axis=1, inplace=True)"
   ]
  },
  {
   "cell_type": "code",
   "execution_count": null,
   "id": "e55cecda",
   "metadata": {},
   "outputs": [],
   "source": [
    "# split the preprocessed data\n",
    "train_test = 0.1\n",
    "train_valid = 0.8\n",
    "\n",
    "train, test = train_test_split(data, test_size=train_test, random_state=0)\n",
    "train, valid = train_test_split(train, train_size=train_valid, random_state=0)\n",
    "\n",
    "print(train.shape, test.shape, valid.shape)"
   ]
  },
  {
   "cell_type": "code",
   "execution_count": null,
   "id": "22abcf1c",
   "metadata": {},
   "outputs": [],
   "source": [
    "train.to_csv(\"preprocessed_train.csv\", index=False)\n",
    "test.to_csv(\"preprocessed_test.csv\", index=False)\n",
    "valid.to_csv(\"preprocessed_valid.csv\", index=False)"
   ]
  },
  {
   "cell_type": "code",
   "execution_count": null,
   "id": "37a31f3d",
   "metadata": {},
   "outputs": [],
   "source": [
    "# generate lyrics.txt and labels.txt for all datasets\n",
    "def aggregate_lyrics(dataset, lyrics_path, labels_path):\n",
    "    \"\"\"\n",
    "    Aggregate lyrics and their respective labels / quadrant\n",
    "    :param dataset: path to data\n",
    "    :param lyrics_path: path to lyrics .txt file\n",
    "    :param labels_path: path to labels .txt file\n",
    "    :return: None\n",
    "    \"\"\"\n",
    "    \n",
    "    data = pd.read_csv(dataset)\n",
    "    failed_index = []   # indexes with faulty data\n",
    "    \n",
    "    lyrics = data[\"lyrics\"]\n",
    "    labels = data[\"quadrant\"]\n",
    "    \n",
    "    with open(lyrics_path, \"w\") as f:\n",
    "        for _ in range(lyrics.shape[0]):\n",
    "            try:\n",
    "                f.write(\"\".join(\"\".join(lyrics[_]).replace(\"\\n\", \" \").replace(\"\\r\", \" \"))+\"\\n\")\n",
    "            except UnicodeEncodeError:\n",
    "                failed_index.append(_)\n",
    "                \n",
    "    with open(labels_path, \"w\") as f:\n",
    "        for _ in range(labels.shape[0]):\n",
    "            try:\n",
    "                if _ not in failed_index:\n",
    "                    f.write(str(labels.iloc[_])+\"\\n\")\n",
    "            except UnicodeEncodeError:\n",
    "                pass"
   ]
  },
  {
   "cell_type": "code",
   "execution_count": null,
   "id": "619f99a8",
   "metadata": {},
   "outputs": [],
   "source": [
    "dataset_list = [\"preprocessed_train.csv\", \"preprocessed_test.csv\", \"preprocessed_valid.csv\"]\n",
    "lyrics_path_list = [\"data/train/lyrics.txt\", \"data/test/lyrics.txt\", \"data/valid/lyrics.txt\"]\n",
    "labels_path_list = [\"data/train/labels.txt\", \"data/test/labels.txt\", \"data/valid/labels.txt\"]"
   ]
  },
  {
   "cell_type": "code",
   "execution_count": null,
   "id": "0b585ecf",
   "metadata": {},
   "outputs": [],
   "source": [
    "for i in range(len(dataset_list)):\n",
    "    aggregate_lyrics(dataset_list[i], lyrics_path_list[i], labels_path_list[i])"
   ]
  },
  {
   "cell_type": "code",
   "execution_count": 2,
   "id": "a8c69f24",
   "metadata": {},
   "outputs": [
    {
     "name": "stdout",
     "output_type": "stream",
     "text": [
      "Default Bucket: sagemaker-us-east-1-019026610741\n",
      "RoleArn: arn:aws:iam::019026610741:role/service-role/AmazonSageMaker-ExecutionRole-20220119T080026\n"
     ]
    }
   ],
   "source": [
    "# upload data\n",
    "session = sagemaker.Session()\n",
    "bucket = session.default_bucket()\n",
    "role = sagemaker.get_execution_role()\n",
    "\n",
    "print(\"Default Bucket: {}\".format(bucket))\n",
    "print(\"RoleArn: {}\".format(role))"
   ]
  },
  {
   "cell_type": "code",
   "execution_count": null,
   "id": "fb042481",
   "metadata": {},
   "outputs": [],
   "source": [
    "local_dir = \"data\"\n",
    "prefix = \"emotion_recognition_music_lyrics\"\n",
    "inputs = session.upload_data(path=local_dir, bucket=bucket, key_prefix=prefix)\n",
    "print(\"input spec (in this case, just an S3 path): {}\".format(inputs))"
   ]
  },
  {
   "cell_type": "code",
   "execution_count": 3,
   "id": "a5322928",
   "metadata": {},
   "outputs": [
    {
     "name": "stdout",
     "output_type": "stream",
     "text": [
      "input spec (in this case, just an S3 path): s3://sagemaker-us-east-1-019026610741/emotion_recognition_music_lyric\n"
     ]
    }
   ],
   "source": [
    "# Saving this to avoid uploading the inputs again)\n",
    "# inputs = \"s3://sagemaker-us-east-1-019026610741/emotion_recognition_music_lyric\"\n",
    "# print(\"input spec (in this case, just an S3 path): {}\".format(inputs))"
   ]
  },
  {
   "cell_type": "markdown",
   "id": "fdc3f830",
   "metadata": {},
   "source": [
    "# Hyperparameter Tuning "
   ]
  },
  {
   "cell_type": "code",
   "execution_count": 3,
   "id": "bd8beb0a",
   "metadata": {},
   "outputs": [],
   "source": [
    "# hyperparameter ranges\n",
    "hyperparameter_ranges = {\n",
    "    \"batch-size\": CategoricalParameter([32, 64, 128]),\n",
    "    \"max-length\": CategoricalParameter([64, 128]),\n",
    "    \"epochs\": IntegerParameter(2, 4),\n",
    "    \"lr\": ContinuousParameter(2e-5, 1e-4),\n",
    "}"
   ]
  },
  {
   "cell_type": "code",
   "execution_count": 4,
   "id": "49350f23",
   "metadata": {},
   "outputs": [],
   "source": [
    "# objective metric definition\n",
    "objective_metric_name = \"average valid loss\"\n",
    "objective_type = \"Minimize\"\n",
    "metric_definitions = [{\"Name\": \"average valid loss\", \"Regex\": \"Val loss: ([+-]?[0-9\\\\.]+)\"}]"
   ]
  },
  {
   "cell_type": "code",
   "execution_count": 5,
   "id": "8d1b633f",
   "metadata": {},
   "outputs": [],
   "source": [
    "# estimator\n",
    "estimator = HuggingFace(\n",
    "    entry_point=\"hpo.py\",\n",
    "    role=role,\n",
    "    py_version=\"py36\",\n",
    "    instance_count=1,\n",
    "    instance_type=\"ml.g4dn.xlarge\",\n",
    "    pytorch_version=\"1.7.1\",\n",
    "    transformers_version =\"4.6.1\",\n",
    ")\n",
    "\n",
    "# tuner\n",
    "tuner = HyperparameterTuner(\n",
    "    estimator,\n",
    "    objective_metric_name,\n",
    "    hyperparameter_ranges,\n",
    "    metric_definitions,\n",
    "    max_jobs=4,\n",
    "    max_parallel_jobs=2,\n",
    "    objective_type=objective_type,\n",
    "    early_stopping_type=\"Auto\",\n",
    ")"
   ]
  },
  {
   "cell_type": "code",
   "execution_count": 6,
   "id": "b9889150",
   "metadata": {},
   "outputs": [],
   "source": [
    "input_channels = {\n",
    "    \"train\": \"s3://sagemaker-us-east-1-019026610741/emotion_recognition_music_lyrics/train\",\n",
    "    \"valid\": \"s3://sagemaker-us-east-1-019026610741/emotion_recognition_music_lyrics/valid\",\n",
    "    \"test\": \"s3://sagemaker-us-east-1-019026610741/emotion_recognition_music_lyrics/test\"\n",
    "}"
   ]
  },
  {
   "cell_type": "code",
   "execution_count": 7,
   "id": "c937c2d9",
   "metadata": {},
   "outputs": [
    {
     "name": "stdout",
     "output_type": "stream",
     "text": [
      ".................................................................................................................................................................................__s"
     ]
    },
    {
     "name": "stderr",
     "output_type": "stream",
     "text": [
      "Job ended with status 'Stopped' rather than 'Completed'. This could mean the job timed out or stopped early for some other reason: Consider checking whether it completed as you expect.\n"
     ]
    },
    {
     "name": "stdout",
     "output_type": "stream",
     "text": [
      "\n"
     ]
    }
   ],
   "source": [
    "# fit your Hyperparameter Tuner with data channels included\n",
    "tuner.fit(input_channels, wait=True)"
   ]
  },
  {
   "cell_type": "code",
   "execution_count": null,
   "id": "e2cf6bb7",
   "metadata": {},
   "outputs": [],
   "source": []
  }
 ],
 "metadata": {
  "kernelspec": {
   "display_name": "conda_python3",
   "language": "python",
   "name": "conda_python3"
  },
  "language_info": {
   "codemirror_mode": {
    "name": "ipython",
    "version": 3
   },
   "file_extension": ".py",
   "mimetype": "text/x-python",
   "name": "python",
   "nbconvert_exporter": "python",
   "pygments_lexer": "ipython3",
   "version": "3.6.13"
  }
 },
 "nbformat": 4,
 "nbformat_minor": 5
}
